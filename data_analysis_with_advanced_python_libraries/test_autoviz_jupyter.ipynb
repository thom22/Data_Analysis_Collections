{
 "cells": [
  {
   "cell_type": "code",
   "execution_count": 3,
   "metadata": {},
   "outputs": [
    {
     "ename": "ModuleNotFoundError",
     "evalue": "No module named 'autoviz'",
     "output_type": "error",
     "traceback": [
      "\u001b[1;31m---------------------------------------------------------------------------\u001b[0m",
      "\u001b[1;31mModuleNotFoundError\u001b[0m                       Traceback (most recent call last)",
      "\u001b[1;32md:\\Python_Data_Analisis\\thom22\\Data_Analysis_Collections\\data_analysis_with_advanced_python_libraries\\test_autoviz_jupyter.ipynb Cell 1\u001b[0m line \u001b[0;36m5\n\u001b[0;32m      <a href='vscode-notebook-cell:/d%3A/Python_Data_Analisis/thom22/Data_Analysis_Collections/data_analysis_with_advanced_python_libraries/test_autoviz_jupyter.ipynb#W0sZmlsZQ%3D%3D?line=0'>1</a>\u001b[0m \u001b[39mimport\u001b[39;00m \u001b[39mpandas\u001b[39;00m \u001b[39mas\u001b[39;00m \u001b[39mpd\u001b[39;00m\n\u001b[0;32m      <a href='vscode-notebook-cell:/d%3A/Python_Data_Analisis/thom22/Data_Analysis_Collections/data_analysis_with_advanced_python_libraries/test_autoviz_jupyter.ipynb#W0sZmlsZQ%3D%3D?line=3'>4</a>\u001b[0m \u001b[39m# import the library\u001b[39;00m\n\u001b[1;32m----> <a href='vscode-notebook-cell:/d%3A/Python_Data_Analisis/thom22/Data_Analysis_Collections/data_analysis_with_advanced_python_libraries/test_autoviz_jupyter.ipynb#W0sZmlsZQ%3D%3D?line=4'>5</a>\u001b[0m \u001b[39mfrom\u001b[39;00m \u001b[39mautoviz\u001b[39;00m \u001b[39mimport\u001b[39;00m AutoViz_Class\n",
      "\u001b[1;31mModuleNotFoundError\u001b[0m: No module named 'autoviz'"
     ]
    }
   ],
   "source": [
    "import pandas as pd\n",
    "\n",
    "\n",
    "# import the library\n",
    "from autoviz import AutoViz_Class"
   ]
  },
  {
   "cell_type": "code",
   "execution_count": null,
   "metadata": {},
   "outputs": [],
   "source": [
    "# read the data \n",
    "data = pd.read_csv('Housing.csv')\n",
    "\n",
    "av = AutoViz_Class()\n",
    "avt = av.AutoViz(\"\",dfte = data,header = 0,verbose = 1,lowess = False,\n",
    "      chart_format = \"server\",max_rows_analyzed = 10000,max_cols_analyzed = 10,\n",
    "      save_plot_dir=None)"
   ]
  }
 ],
 "metadata": {
  "kernelspec": {
   "display_name": ".venv",
   "language": "python",
   "name": "python3"
  },
  "language_info": {
   "codemirror_mode": {
    "name": "ipython",
    "version": 3
   },
   "file_extension": ".py",
   "mimetype": "text/x-python",
   "name": "python",
   "nbconvert_exporter": "python",
   "pygments_lexer": "ipython3",
   "version": "3.11.4"
  }
 },
 "nbformat": 4,
 "nbformat_minor": 2
}
